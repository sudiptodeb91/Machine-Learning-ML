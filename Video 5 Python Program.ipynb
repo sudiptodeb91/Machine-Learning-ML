{
 "cells": [
  {
   "cell_type": "code",
   "execution_count": 1,
   "metadata": {},
   "outputs": [
    {
     "data": {
      "text/plain": [
       "'3.7.4 (default, Aug  9 2019, 18:34:13) [MSC v.1915 64 bit (AMD64)]'"
      ]
     },
     "execution_count": 1,
     "metadata": {},
     "output_type": "execute_result"
    }
   ],
   "source": [
    "## libraries \n",
    "import sys\n",
    "sys.version"
   ]
  },
  {
   "cell_type": "code",
   "execution_count": null,
   "metadata": {},
   "outputs": [],
   "source": []
  },
  {
   "cell_type": "code",
   "execution_count": 11,
   "metadata": {},
   "outputs": [
    {
     "name": "stdout",
     "output_type": "stream",
     "text": [
      "*\n",
      "**\n",
      "***\n",
      "****\n",
      "*****\n",
      "*****\n",
      "****\n",
      "***\n",
      "**\n",
      "*\n"
     ]
    }
   ],
   "source": [
    "for i in range (1,6):\n",
    "    for j in range (i):\n",
    "        print(\"*\" , end=\"\")\n",
    "    print (\"\")\n",
    "\n",
    "for i in range (5,0 ,-1):\n",
    "    for j in range (i):\n",
    "        print (\"*\",end =\"\")\n",
    "    print (\"\")\n"
   ]
  },
  {
   "cell_type": "code",
   "execution_count": 16,
   "metadata": {},
   "outputs": [
    {
     "data": {
      "text/plain": [
       "'ranjanranjanranjanranjanranjanranjanranjanranjanranjanranjan'"
      ]
     },
     "execution_count": 16,
     "metadata": {},
     "output_type": "execute_result"
    }
   ],
   "source": []
  },
  {
   "cell_type": "code",
   "execution_count": null,
   "metadata": {},
   "outputs": [],
   "source": []
  },
  {
   "cell_type": "code",
   "execution_count": null,
   "metadata": {},
   "outputs": [],
   "source": []
  },
  {
   "cell_type": "code",
   "execution_count": 19,
   "metadata": {},
   "outputs": [
    {
     "name": "stdout",
     "output_type": "stream",
     "text": [
      "\n",
      "1\n",
      "22\n",
      "333\n",
      "4444\n",
      "55555\n",
      "666666\n",
      "7777777\n",
      "88888888\n"
     ]
    }
   ],
   "source": [
    "for i in range(9):\n",
    "    print (str(i)* i)"
   ]
  },
  {
   "cell_type": "code",
   "execution_count": 3,
   "metadata": {},
   "outputs": [
    {
     "name": "stdout",
     "output_type": "stream",
     "text": [
      "1\n",
      "22\n",
      "333\n",
      "4444\n",
      "55555\n",
      "666666\n",
      "7777777\n",
      "88888888\n"
     ]
    }
   ],
   "source": []
  },
  {
   "cell_type": "code",
   "execution_count": 31,
   "metadata": {},
   "outputs": [
    {
     "name": "stdout",
     "output_type": "stream",
     "text": [
      "the name of person is  ranjan 29\n",
      "the name of person is ranjan and age is 29\n"
     ]
    }
   ],
   "source": [
    "name='ranjan'\n",
    "age =29\n",
    "print (\"the name of person is \" ,name,age)\n",
    "\n",
    "print (f\"the name of person is {name} and age is {age}\")"
   ]
  },
  {
   "cell_type": "code",
   "execution_count": 32,
   "metadata": {},
   "outputs": [
    {
     "name": "stdout",
     "output_type": "stream",
     "text": [
      "The number is odd 355\n"
     ]
    }
   ],
   "source": [
    "#### Static Code odd and even \n",
    " \n",
    "a= 355\n",
    "\n",
    "if a%2 == 0:\n",
    "    print (\"the number is Even\", a)\n",
    "else:\n",
    "    print ( \"The number is odd\" ,a)"
   ]
  },
  {
   "cell_type": "code",
   "execution_count": 33,
   "metadata": {},
   "outputs": [
    {
     "name": "stdout",
     "output_type": "stream",
     "text": [
      "enter the number to find the even or odd \n",
      "125\n",
      "The number is odd\n"
     ]
    }
   ],
   "source": [
    "### Dynamic Code\n",
    "\n",
    "a = int (input(\"enter the number to find the even or odd \\n\"))\n",
    "if a%2 == 0:\n",
    "    print (\"the number is Even\", a)\n",
    "else:\n",
    "    print ( \"The number is odd\")"
   ]
  },
  {
   "cell_type": "code",
   "execution_count": null,
   "metadata": {},
   "outputs": [],
   "source": []
  },
  {
   "cell_type": "code",
   "execution_count": 34,
   "metadata": {},
   "outputs": [
    {
     "name": "stdout",
     "output_type": "stream",
     "text": [
      "even list is : [12, 32, 4, 432, 54, 54]\n",
      "odd list is  [511, 431, 123, 65, 187]\n"
     ]
    }
   ],
   "source": [
    "### static list ###  Count the odd and even number of list\n",
    "list1 = [12,32,4,511,432,431,54,123,65,187,54]\n",
    "\n",
    "odd =[]\n",
    "even = []\n",
    "\n",
    "for i in list1:\n",
    "    if i %2 == 0:\n",
    "        even.append(i)\n",
    "    else:\n",
    "        odd.append(i)\n",
    "print (\"even list is :\" , even)\n",
    "\n",
    "print ( \"odd list is \", odd)"
   ]
  },
  {
   "cell_type": "code",
   "execution_count": 42,
   "metadata": {},
   "outputs": [
    {
     "name": "stdout",
     "output_type": "stream",
     "text": [
      "enter the name rnajan sharma 29\n"
     ]
    }
   ],
   "source": [
    "first,last,age =input (\"enter the name \").split( \" \")"
   ]
  },
  {
   "cell_type": "code",
   "execution_count": 43,
   "metadata": {},
   "outputs": [
    {
     "name": "stdout",
     "output_type": "stream",
     "text": [
      "rnajan\n",
      "sharma\n",
      "29\n"
     ]
    }
   ],
   "source": [
    "print (first)\n",
    "print (last)\n",
    "print (age)"
   ]
  },
  {
   "cell_type": "code",
   "execution_count": 45,
   "metadata": {},
   "outputs": [
    {
     "name": "stdout",
     "output_type": "stream",
     "text": [
      "enter the numbers for the list seperated by comma12,2,45,6\n",
      "even list is : [12, 2, 6]\n",
      "odd list is  [45]\n"
     ]
    }
   ],
   "source": [
    "\n",
    "## Dyanmic  list ... count too\n",
    "\n",
    "a= input(\"enter the numbers for the list seperated by comma\").split(\",\")\n",
    "a\n",
    " \n",
    "odd =[]\n",
    "even=[]\n",
    "\n",
    "for i in a:\n",
    "    i = int(i)\n",
    "    if i%2 ==0 :\n",
    "        even.append(i)\n",
    "    else:\n",
    "        odd.append(i)\n",
    "print (\"even list is :\" , even)\n",
    "\n",
    "print ( \"odd list is \", odd)\n"
   ]
  },
  {
   "cell_type": "code",
   "execution_count": null,
   "metadata": {},
   "outputs": [],
   "source": []
  },
  {
   "cell_type": "code",
   "execution_count": 53,
   "metadata": {},
   "outputs": [
    {
     "name": "stdout",
     "output_type": "stream",
     "text": [
      "even list is : [100, 102, 104, 106, 108, 110, 112, 114, 116, 118, 120, 122, 124, 126, 128, 130, 132, 134, 136, 138, 140, 142, 144, 146, 148, 150, 152, 154, 156, 158, 160, 162, 164, 166, 168, 170, 172, 174, 176, 178, 180, 182, 184, 186, 188, 190, 192, 194, 196, 198]\n",
      "odd list is  [101, 103, 105, 107, 109, 111, 113, 115, 117, 119, 121, 123, 125, 127, 129, 131, 133, 135, 137, 139, 141, 143, 145, 147, 149, 151, 153, 155, 157, 159, 161, 163, 165, 167, 169, 171, 173, 175, 177, 179, 181, 183, 185, 187, 189, 191, 193, 195, 197, 199]\n",
      "50 50\n"
     ]
    }
   ],
   "source": [
    "### static range\n",
    "odd =[]\n",
    "even = []\n",
    "cofeven =0\n",
    "cofodd=0\n",
    "\n",
    "for i in range (100,200):\n",
    "    if i %2 == 0:\n",
    "        even.append(i)\n",
    "        cofeven+=1\n",
    "        \n",
    "    else:\n",
    "        odd.append(i)\n",
    "        cofodd+=1\n",
    "        \n",
    "print (\"even list is :\" , even)\n",
    "\n",
    "print ( \"odd list is \", odd)\n",
    "print(cofeven,cofodd)\n",
    "\n"
   ]
  },
  {
   "cell_type": "code",
   "execution_count": null,
   "metadata": {},
   "outputs": [],
   "source": []
  },
  {
   "cell_type": "code",
   "execution_count": null,
   "metadata": {},
   "outputs": [],
   "source": []
  },
  {
   "cell_type": "code",
   "execution_count": 48,
   "metadata": {},
   "outputs": [
    {
     "name": "stdout",
     "output_type": "stream",
     "text": [
      "sum of given range is 36\n"
     ]
    }
   ],
   "source": [
    "## Static Sum all values between 1 and 9 \n",
    "sum=0\n",
    "for i in range (1,9):\n",
    "    \n",
    "    \n",
    "    sum= sum +i\n",
    "    \n",
    "print (\"sum of given range is\", sum)"
   ]
  },
  {
   "cell_type": "code",
   "execution_count": null,
   "metadata": {},
   "outputs": [],
   "source": [
    "\n",
    "## Static list \n",
    "### sum of all values that are in the list\n"
   ]
  },
  {
   "cell_type": "code",
   "execution_count": null,
   "metadata": {},
   "outputs": [],
   "source": [
    "\n",
    "## Dymanic list \n",
    "### sum of all values that are in the list\n"
   ]
  },
  {
   "cell_type": "code",
   "execution_count": null,
   "metadata": {},
   "outputs": [],
   "source": [
    "### CCount the number of alphabets \"a\" and \"r in string\n",
    "\n",
    "s=\"my name is Anthony Gonsalves\""
   ]
  },
  {
   "cell_type": "code",
   "execution_count": null,
   "metadata": {},
   "outputs": [],
   "source": [
    "### Create a dynamic code, that takes 2 inputs from user and returns the number of odd values between 2 numbers\n"
   ]
  },
  {
   "cell_type": "code",
   "execution_count": null,
   "metadata": {},
   "outputs": [],
   "source": [
    "### Write a programm to count the number of days in a month "
   ]
  },
  {
   "cell_type": "code",
   "execution_count": null,
   "metadata": {},
   "outputs": [],
   "source": []
  },
  {
   "cell_type": "code",
   "execution_count": null,
   "metadata": {},
   "outputs": [],
   "source": []
  },
  {
   "cell_type": "code",
   "execution_count": null,
   "metadata": {},
   "outputs": [],
   "source": []
  },
  {
   "cell_type": "code",
   "execution_count": null,
   "metadata": {},
   "outputs": [],
   "source": []
  },
  {
   "cell_type": "code",
   "execution_count": null,
   "metadata": {},
   "outputs": [],
   "source": []
  }
 ],
 "metadata": {
  "kernelspec": {
   "display_name": "Python 3",
   "language": "python",
   "name": "python3"
  },
  "language_info": {
   "codemirror_mode": {
    "name": "ipython",
    "version": 3
   },
   "file_extension": ".py",
   "mimetype": "text/x-python",
   "name": "python",
   "nbconvert_exporter": "python",
   "pygments_lexer": "ipython3",
   "version": "3.7.4"
  }
 },
 "nbformat": 4,
 "nbformat_minor": 2
}
